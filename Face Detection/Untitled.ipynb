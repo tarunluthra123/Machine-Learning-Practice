{
 "cells": [
  {
   "cell_type": "code",
   "execution_count": 1,
   "metadata": {},
   "outputs": [],
   "source": [
    "import cv2\n",
    "import numpy as np\n",
    "import os\n",
    "\n",
    "cap = cv2.VideoCapture(0)\n",
    "data_path = 'C:\\\\Users\\\\Tarun Luthra\\\\Dropbox\\\\Coding\\\\Machine Learning\\\\Face Detection\\\\'\n"
   ]
  },
  {
   "cell_type": "code",
   "execution_count": 2,
   "metadata": {},
   "outputs": [],
   "source": [
    "# KNN Code\n",
    "def dist(x1, x2) -> float:\n",
    "    '''This function returns the Euclidean Distance'''\n",
    "    print('in dist function')\n",
    "    return np.sqrt(sum((x1-x2)**2))\n",
    "\n",
    "\n",
    "def knn(X, Y, queryPoint, k=5):\n",
    "    print('in knn function')\n",
    "    vals = []\n",
    "    m = X.shape[0]\n",
    "\n",
    "    print('m=',m)\n",
    "\n",
    "    for i in range(m/2):\n",
    "        print('knn i=',i)\n",
    "        d = dist(queryPoint, X[i])\n",
    "        vals.append((d, Y[i]))\n",
    "\n",
    "    print('loop done')\n",
    "\n",
    "    # vals is list of tuples of (dist,y_label) type\n",
    "    vals = sorted(vals)\n",
    "    vals = vals[:k]\n",
    "\n",
    "    vals = np.array(vals)\n",
    "\n",
    "    newVals = np.unique(vals[:, 1], return_counts=True)\n",
    "\n",
    "    index = newVals[1].argmax()\n",
    "    pred = newVals[0][index]\n",
    "\n",
    "    print('returning from knn')\n",
    "\n",
    "    return pred\n",
    "#####################\n",
    "\n"
   ]
  },
  {
   "cell_type": "code",
   "execution_count": 3,
   "metadata": {},
   "outputs": [],
   "source": [
    "# Face Detection\n",
    "face_cascade = cv2.CascadeClassifier(data_path + \"haarcascade_frontalface_alt.xml\")\n",
    "\n",
    "skip = 0\n",
    "face_data = []\n",
    "labels = []\n",
    "class_id = 0\n",
    "names = {}\n"
   ]
  },
  {
   "cell_type": "code",
   "execution_count": 4,
   "metadata": {},
   "outputs": [
    {
     "name": "stdout",
     "output_type": "stream",
     "text": [
      "Loaded Tarun.npy\n",
      "Data prepared\n",
      "X- (11, 1)\n",
      "Y- (11, 1)\n"
     ]
    }
   ],
   "source": [
    "# Data Preparation\n",
    "for fx in os.listdir(data_path):\n",
    "    if fx.endswith('.npy'):\n",
    "        names[class_id] = fx[:-4]\n",
    "        print(\"Loaded \" + fx)\n",
    "        data_item = np.load(data_path+fx, allow_pickle=True)\n",
    "\n",
    "        face_data.append(data_item)\n",
    "\n",
    "        target = class_id * np.ones((data_item.shape[0],))\n",
    "\n",
    "        class_id += 1\n",
    "        labels.append(target)\n",
    "\n",
    "face_dataset = np.concatenate(face_data, axis=0)\n",
    "face_labels = np.concatenate(labels, axis=0).reshape((-1, 1))\n",
    "\n",
    "print('Data prepared')\n",
    "print('X-',face_dataset.shape)\n",
    "print('Y-',face_labels.shape)\n"
   ]
  },
  {
   "cell_type": "code",
   "execution_count": null,
   "metadata": {},
   "outputs": [],
   "source": [
    "# Testing\n",
    "while True:\n",
    "    ret, frame = cap.read()\n",
    "\n",
    "    if ret == False:\n",
    "        continue\n",
    "\n",
    "    faces = face_cascade.detectMultiScale(frame, 1.3, 5)\n",
    "    if len(faces) == 0:\n",
    "        continue\n",
    "\n",
    "    facecount=0\n",
    "\n",
    "    for face in faces:\n",
    "        x, y, w, h = face\n",
    "        print('facecount=',facecount)\n",
    "        facecount+=1\n",
    "\n",
    "        offset = 10\n",
    "        face_section = frame[y - offset: y + h + offset, x - offset: x + w + offset]\n",
    "\n",
    "        out = knn(face_dataset, face_labels, face_section.flatten())\n",
    "\n",
    "        pred_name = names[int(out)]\n",
    "\n",
    "        cv2.putText(frame, pred_name, (x, y - 10),cv2.FONT_HERSHEY_SIMPLEX, 1, (255, 0, 0), 2, cv2.LINE_AA)\n",
    "        cv2.rectangle(frame, (x, y), (x + w, y + h), (0, 255, 255), 2)\n",
    "\n",
    "    cv2.imshow(\"Faces \", frame)\n",
    "\n",
    "    keyPressed = cv2.waitKey(1) & 0xFF\n",
    "    if keyPressed == ord('q'):\n",
    "        break\n",
    "\n",
    "\n",
    "cap.release()\n",
    "cv2.destroyAllWindows()\n"
   ]
  },
  {
   "cell_type": "code",
   "execution_count": null,
   "metadata": {},
   "outputs": [],
   "source": []
  },
  {
   "cell_type": "code",
   "execution_count": null,
   "metadata": {},
   "outputs": [],
   "source": []
  },
  {
   "cell_type": "code",
   "execution_count": null,
   "metadata": {},
   "outputs": [],
   "source": []
  },
  {
   "cell_type": "code",
   "execution_count": null,
   "metadata": {},
   "outputs": [],
   "source": []
  },
  {
   "cell_type": "code",
   "execution_count": null,
   "metadata": {},
   "outputs": [],
   "source": []
  },
  {
   "cell_type": "code",
   "execution_count": null,
   "metadata": {},
   "outputs": [],
   "source": []
  }
 ],
 "metadata": {
  "kernelspec": {
   "display_name": "Python 3",
   "language": "python",
   "name": "python3"
  },
  "language_info": {
   "codemirror_mode": {
    "name": "ipython",
    "version": 3
   },
   "file_extension": ".py",
   "mimetype": "text/x-python",
   "name": "python",
   "nbconvert_exporter": "python",
   "pygments_lexer": "ipython3",
   "version": "3.7.4"
  }
 },
 "nbformat": 4,
 "nbformat_minor": 4
}
