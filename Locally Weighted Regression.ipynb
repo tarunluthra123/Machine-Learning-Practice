{
 "cells": [
  {
   "cell_type": "code",
   "execution_count": 1,
   "metadata": {},
   "outputs": [],
   "source": [
    "import numpy as np\n",
    "import pandas as pd\n",
    "import matplotlib.pyplot as plt"
   ]
  },
  {
   "cell_type": "code",
   "execution_count": 35,
   "metadata": {},
   "outputs": [
    {
     "name": "stdout",
     "output_type": "stream",
     "text": [
      "(100,)\n",
      "(100,)\n"
     ]
    },
    {
     "data": {
      "image/png": "[encoded data removed]",
      "text/plain": [
       "<Figure size 576x396 with 1 Axes>"
      ]
     },
     "metadata": {},
     "output_type": "display_data"
    }
   ],
   "source": [
    "#Custom X and Y \n",
    "limit = 100\n",
    "X = np.linspace(3,1,limit)\n",
    "noise = np.random.randn(limit)\n",
    "X = X + noise\n",
    "Y = np.sin(X * -0.25 * np.pi * np.random.random())\n",
    "plt.style.use(\"seaborn\")\n",
    "\n",
    "# ones = np.ones()\n",
    "\n",
    "X.reshape(-1,1)\n",
    "Y.reshape(-1,1)\n",
    "\n",
    "print(X.shape)\n",
    "print(Y.shape)\n",
    "\n",
    "X = (X - X.mean())/X.std()\n",
    "\n",
    "plt.scatter(X,Y)\n",
    "plt.show()\n",
    "\n",
    "X_Copy = X\n",
    "Y_Copy = Y"
   ]
  },
  {
   "cell_type": "code",
   "execution_count": null,
   "metadata": {},
   "outputs": [],
   "source": []
  },
  {
   "cell_type": "code",
   "execution_count": 36,
   "metadata": {},
   "outputs": [
    {
     "name": "stdout",
     "output_type": "stream",
     "text": [
      "(1, 100)\n",
      "(1, 100)\n"
     ]
    }
   ],
   "source": [
    "X = np.mat(X)\n",
    "Y = np.mat(Y)\n",
    "\n",
    "print(X.shape)\n",
    "print(Y.shape)"
   ]
  },
  {
   "cell_type": "code",
   "execution_count": 37,
   "metadata": {},
   "outputs": [
    {
     "name": "stdout",
     "output_type": "stream",
     "text": [
      "X -  (100, 1)\n",
      "Y -  (100, 1)\n",
      "(100, 100)\n",
      "[[9.73442358e-01 0.00000000e+00 0.00000000e+00 ... 0.00000000e+00\n",
      "  0.00000000e+00 0.00000000e+00]\n",
      " [0.00000000e+00 8.68444301e-01 0.00000000e+00 ... 0.00000000e+00\n",
      "  0.00000000e+00 0.00000000e+00]\n",
      " [0.00000000e+00 0.00000000e+00 8.28564333e-01 ... 0.00000000e+00\n",
      "  0.00000000e+00 0.00000000e+00]\n",
      " ...\n",
      " [0.00000000e+00 0.00000000e+00 0.00000000e+00 ... 6.21564026e-05\n",
      "  0.00000000e+00 0.00000000e+00]\n",
      " [0.00000000e+00 0.00000000e+00 0.00000000e+00 ... 0.00000000e+00\n",
      "  1.50327701e-01 0.00000000e+00]\n",
      " [0.00000000e+00 0.00000000e+00 0.00000000e+00 ... 0.00000000e+00\n",
      "  0.00000000e+00 5.36258657e-02]]\n"
     ]
    }
   ],
   "source": [
    "def getW(query_point,X,tau):\n",
    "    m = X.shape[0]\n",
    "    W = np.mat(np.eye(m))\n",
    "    x = query_point\n",
    "    \n",
    "    for i in range(m):\n",
    "        xi = X[i]\n",
    "        x = query_point\n",
    "        W[i,i] = np.exp(np.dot((xi-x),(xi-x).T)/(-2*tau*tau))\n",
    "    return W\n",
    "\n",
    "# X = np.asmatrix(X)\n",
    "# # Y = np.asmatrix(Y)\n",
    "\n",
    "X = X.T\n",
    "Y = Y.T\n",
    "\n",
    "\n",
    "m = X.shape[0]\n",
    "\n",
    "print(\"X - \",X.shape)\n",
    "print(\"Y - \",Y.shape)\n",
    "\n",
    "W = getW(1,X,0.5)\n",
    "\n",
    "\n",
    "print(W.shape)\n",
    "print(W)"
   ]
  },
  {
   "cell_type": "code",
   "execution_count": 47,
   "metadata": {},
   "outputs": [
    {
     "name": "stdout",
     "output_type": "stream",
     "text": [
      "(100, 1)\n",
      "(100, 1)\n",
      "X_ -  (100, 2)\n",
      "qx -  (1, 2)\n"
     ]
    }
   ],
   "source": [
    "def predict(X,Y,query_x,tau=0.1):\n",
    "    ones = np.ones((m,1))\n",
    "#     print(ones)\n",
    "    X_ = np.hstack((X,ones))\n",
    "    qx = np.mat([query_x,1])\n",
    "    print(\"X_ - \",X_.shape)\n",
    "    print(\"qx - \",qx.shape)\n",
    "    W = getW(qx,X_,tau)\n",
    "    \n",
    "    theta = np.linalg.pinv(X_.T *(W*X_)) * (X_.T *(W*Y))\n",
    "    pred = np.dot(qx, theta)\n",
    "    return theta,pred\n",
    "\n",
    "print(X.shape)\n",
    "print(Y.shape)\n",
    "\n",
    "theta,pred = predict(X,Y,1.0,0.1)"
   ]
  },
  {
   "cell_type": "code",
   "execution_count": 48,
   "metadata": {},
   "outputs": [
    {
     "name": "stdout",
     "output_type": "stream",
     "text": [
      "[[ 0.16102782]\n",
      " [-1.1256522 ]]\n",
      "[[-0.96462438]]\n"
     ]
    }
   ],
   "source": [
    "print(theta)\n",
    "print(pred)"
   ]
  },
  {
   "cell_type": "code",
   "execution_count": 49,
   "metadata": {},
   "outputs": [
    {
     "data": {
      "image/png": "[encoded data removed]",
      "text/plain": [
       "<Figure size 576x396 with 1 Axes>"
      ]
     },
     "metadata": {},
     "output_type": "display_data"
    }
   ],
   "source": [
    "plt.scatter(X_Copy,Y_Copy)\n",
    "x_pred = [[1]]\n",
    "pred = np.array(pred)\n",
    "plt.scatter(x_pred,pred,color='orange')\n",
    "plt.show()"
   ]
  },
  {
   "cell_type": "code",
   "execution_count": 52,
   "metadata": {},
   "outputs": [
    {
     "name": "stdout",
     "output_type": "stream",
     "text": [
      "-0.9684144081109279\n"
     ]
    }
   ],
   "source": [
    "for i in range(len(X_Copy)):\n",
    "    x = X_Copy[i]\n",
    "    if x > 0.9 and x < 1.1:\n",
    "        print(Y_Copy[i])\n",
    "        break"
   ]
  },
  {
   "cell_type": "code",
   "execution_count": null,
   "metadata": {},
   "outputs": [],
   "source": []
  }
 ],
 "metadata": {
  "kernelspec": {
   "display_name": "Python 3",
   "language": "python",
   "name": "python3"
  },
  "language_info": {
   "codemirror_mode": {
    "name": "ipython",
    "version": 3
   },
   "file_extension": ".py",
   "mimetype": "text/x-python",
   "name": "python",
   "nbconvert_exporter": "python",
   "pygments_lexer": "ipython3",
   "version": "3.7.4"
  }
 },
 "nbformat": 4,
 "nbformat_minor": 4
}
