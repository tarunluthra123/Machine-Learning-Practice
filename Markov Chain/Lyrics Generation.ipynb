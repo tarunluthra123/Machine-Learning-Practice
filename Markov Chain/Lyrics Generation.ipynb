{
 "cells": [
  {
   "cell_type": "code",
   "execution_count": 1,
   "metadata": {},
   "outputs": [],
   "source": [
    "### Markov Chain"
   ]
  },
  {
   "cell_type": "code",
   "execution_count": 17,
   "metadata": {},
   "outputs": [],
   "source": [
    "import numpy as np"
   ]
  },
  {
   "cell_type": "code",
   "execution_count": 7,
   "metadata": {},
   "outputs": [],
   "source": [
    "data = \"dog is biting hello hello helli dog is running\""
   ]
  },
  {
   "cell_type": "code",
   "execution_count": 5,
   "metadata": {},
   "outputs": [],
   "source": [
    "def generateTable(data, k=4):\n",
    "    T = {}\n",
    "    for i in range(len(data)- k):\n",
    "        X = data[i:i+k]\n",
    "        y = data[i+k]\n",
    "        \n",
    "        if X not in T:\n",
    "            T[X] = {}\n",
    "            T[X][y] = 1\n",
    "        else:\n",
    "            if y not in T[X]:\n",
    "                T[X][y] = 1\n",
    "            else:\n",
    "                T[X][y] += 1\n",
    "                \n",
    "    return T"
   ]
  },
  {
   "cell_type": "code",
   "execution_count": 9,
   "metadata": {},
   "outputs": [],
   "source": [
    "T = generateTable(data)"
   ]
  },
  {
   "cell_type": "code",
   "execution_count": 10,
   "metadata": {},
   "outputs": [],
   "source": [
    "# Convert transition table to store probabilities instead of frequency\n",
    "def convertFreqIntoProb(T):\n",
    "    for kx in T:\n",
    "        s = sum(list(T[kx].values()))\n",
    "        \n",
    "        for k in T[kx]:\n",
    "            T[kx][k] /= s\n",
    "            \n",
    "    return T    "
   ]
  },
  {
   "cell_type": "code",
   "execution_count": 13,
   "metadata": {},
   "outputs": [],
   "source": [
    "T = convertFreqIntoProb(T)"
   ]
  },
  {
   "cell_type": "code",
   "execution_count": 18,
   "metadata": {},
   "outputs": [
    {
     "name": "stdout",
     "output_type": "stream",
     "text": [
      "my dear countrymen,\n",
      "\n",
      "many of you wish many-many good wishes of the holy festival of independence.\n",
      "\n",
      "today the country is full of confidence. the country is crossing the new heights by plowing the resolve of dreams with hard work. today's sunrise has brought a new consciousness, new excitement, new excitement, new energy.\n",
      "\n",
      "our lovely countrymen, once in 12 years, flowers of nilakurinya grow in our country. this year, on the hills of nilgiris in the south, it is like our nilkurinji flower like the ashok chakra of the tricolor flag, in the festival of freedom of the country.\n",
      "\n",
      "my dear countrymen, we are celebrating this festival of independence, when our daughters uttarakhand, himachal, manipur, telangana, andhra pradesh - our daughters of these states crossed seven seas and coloring the seven seas with a color of tricolor came back\n",
      "\n",
      "my dear countrymen, we are celebrating the festival of independence at that time, when everest triumphs were so many, many of our heroes, many of our daughters went to the everest and hoisted the tricolor flag. but in the celebration of this freedom, i will remember that the tribal children living in far-off jungles have increased the glory of the tricolor flag by hoisting the tricolor flag on everest.\n",
      "\n",
      "\n",
      "my dear countrymen, the sessions of the lok sabha and rajya sabha have just been fulfilled. you must have seen that the house ran very well and in a sense this session of parliament was entirely devoted to social justice. to protect their rights, our parliament made social justice more forceful with sensitivity and awareness, to be oppressed, oppressed, exploited, deprived, women, to protect their rights.\n",
      "\n",
      "the obc commission was demanding for a constitutional place for years. this time parliament has tried to protect their rights by giving a constitutional order to backward, backward, by giving constitutional status to that commission.\n",
      "\n",
      "we are celebrating the festival of independence at that time, when those news in our country brought new consciousness to the country, with whom every indian who is not in any corner of the world, today is proud of the fact that india has registered its name in the world's sixth largest economy. in such a positive environment, among the series of positive events we are celebrating the festival of independence today.\n",
      "\n",
      "in order to give freedom to the country, millions of people spent their lives in the jubilee prisons under the leadership of pujya bapu. many revolutionary great men hanged on the hanging frames and kissed the hanging for the country's independence. i heartily greet these brave fighters of independence from the countrymen today, i bow my heart to the eternal glory of the tricolor, inspiring us to live and die, the tricolor of for the sake of the army of the army of the country, our soldiers sacrifice their lives, our paramilitary forces spend life, the soldiers of our police force, in the service of the country day and night to protect the common man. live gay\n",
      "\n",
      "i bow down to the ranks of the red fort in the evidence of the tricolor flag today for all the soldiers of the army, the paramilitary forces, the police personnel, for their great service, for their sacrifice and happiness, for their power and happiness. i am very happy and give them a lot of luck.\n",
      "\n",
      "these days, reports of good rainfall are coming from different corners of the country, along with flood reports are coming along. those families who have lost their loved ones due to overcrowding and floods, who have suffered difficulties, have been standing in their help with the full power of the country and those who have lost their lives, i am involved in their misery.\n",
      "\n",
      "my dear countrymen, the next baisakhi is going to be a hundred years of massacres of our jalianwala bagh. how ordinary people of the country had betrayed life for the country's independence and how long had the boundaries of oppression passed? jalianwala bagh gives the message of sacrifice and sacrifice of those heroes of our country. i heartily respect all those heroes.\n"
     ]
    }
   ],
   "source": [
    "with open(\"modispeech.txt\") as f:\n",
    "    data = f.read().lower()\n",
    "    \n",
    "print(data)"
   ]
  },
  {
   "cell_type": "code",
   "execution_count": 19,
   "metadata": {},
   "outputs": [],
   "source": [
    "T = generateTable(data)\n",
    "T = convertFreqIntoProb(T)"
   ]
  },
  {
   "cell_type": "code",
   "execution_count": 22,
   "metadata": {},
   "outputs": [],
   "source": [
    "## Generate Text\n",
    "def sample_next(ctx, T, k=4):\n",
    "    ctx = ctx[-k:]\n",
    "    \n",
    "    if ctx not in T:\n",
    "        return \" \"\n",
    "    \n",
    "    possibleChar = list(T[ctx].keys())\n",
    "    possibleProb = list(T[ctx].values())\n",
    "    \n",
    "    return np.random.choice(possibleChar, p = possibleProb)\n",
    "    "
   ]
  },
  {
   "cell_type": "code",
   "execution_count": 23,
   "metadata": {},
   "outputs": [],
   "source": [
    "def generateText(startingSentence, t, k=4, max_len = 100):\n",
    "    sentence = startingSentence\n",
    "    \n",
    "    for ix in range(max_len):\n",
    "        nextChar = sample_next(sentence, T, k)\n",
    "        sentence += nextChar\n",
    "        \n",
    "    return sentence"
   ]
  },
  {
   "cell_type": "code",
   "execution_count": 28,
   "metadata": {},
   "outputs": [
    {
     "data": {
      "text/plain": [
       "'my dear country, with the holy festival of these status to back\\n\\nmy dear country, millions under to be a hun'"
      ]
     },
     "execution_count": 28,
     "metadata": {},
     "output_type": "execute_result"
    }
   ],
   "source": [
    "generateText(\"my dear \", T)"
   ]
  },
  {
   "cell_type": "code",
   "execution_count": null,
   "metadata": {},
   "outputs": [],
   "source": []
  }
 ],
 "metadata": {
  "kernelspec": {
   "display_name": "Python 3",
   "language": "python",
   "name": "python3"
  },
  "language_info": {
   "codemirror_mode": {
    "name": "ipython",
    "version": 3
   },
   "file_extension": ".py",
   "mimetype": "text/x-python",
   "name": "python",
   "nbconvert_exporter": "python",
   "pygments_lexer": "ipython3",
   "version": "3.7.4"
  }
 },
 "nbformat": 4,
 "nbformat_minor": 4
}
